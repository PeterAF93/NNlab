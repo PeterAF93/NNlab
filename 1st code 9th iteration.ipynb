{
 "cells": [
  {
   "cell_type": "code",
   "execution_count": 1,
   "metadata": {},
   "outputs": [],
   "source": [
    "import tensorflow as tf\n",
    "import numpy as np"
   ]
  },
  {
   "cell_type": "code",
   "execution_count": 6,
   "metadata": {},
   "outputs": [],
   "source": [
    "N,D,H=64,1000,100\n",
    "model=tf.keras.Sequential()\n",
    "model.add(tf.keras.layers.Dense(H, input_shape=(D,),\n",
    "                               activation=tf.nn.relu)) #what is the use of this function in general? and what is 'relu=\"max(matmul(h,w2),0)\"'\n",
    "model.add(tf.keras.layers.Dense(D))"
   ]
  },
  {
   "cell_type": "code",
   "execution_count": 7,
   "metadata": {},
   "outputs": [],
   "source": [
    "model.compile(loss=tf.keras.losses.mean_squared_error,\n",
    "             optimizer=tf.keras.optimizers.SGD(lr=1e0)) #what is SGD(lr=1e0)? and why we put 1e0 while 1e0=1 so we could say SGD(lr=1)"
   ]
  },
  {
   "cell_type": "code",
   "execution_count": 8,
   "metadata": {},
   "outputs": [],
   "source": [
    "x=np.random.randn(N,D)\n",
    "y=np.random.randn(N,D)"
   ]
  },
  {
   "cell_type": "code",
   "execution_count": 9,
   "metadata": {},
   "outputs": [
    {
     "name": "stdout",
     "output_type": "stream",
     "text": [
      "Epoch 1/50\n",
      "64/64 [==============================] - 0s 2ms/step - loss: 1.1696\n",
      "Epoch 2/50\n",
      "64/64 [==============================] - 0s 78us/step - loss: 1.1328\n",
      "Epoch 3/50\n",
      "64/64 [==============================] - 0s 109us/step - loss: 1.1041\n",
      "Epoch 4/50\n",
      "64/64 [==============================] - 0s 94us/step - loss: 1.0812\n",
      "Epoch 5/50\n",
      "64/64 [==============================] - 0s 63us/step - loss: 1.0625\n",
      "Epoch 6/50\n",
      "64/64 [==============================] - 0s 78us/step - loss: 1.0471\n",
      "Epoch 7/50\n",
      "64/64 [==============================] - 0s 94us/step - loss: 1.0341\n",
      "Epoch 8/50\n",
      "64/64 [==============================] - 0s 63us/step - loss: 1.0231\n",
      "Epoch 9/50\n",
      "64/64 [==============================] - 0s 63us/step - loss: 1.0137\n",
      "Epoch 10/50\n",
      "64/64 [==============================] - 0s 78us/step - loss: 1.0056\n",
      "Epoch 11/50\n",
      "64/64 [==============================] - 0s 94us/step - loss: 0.9986\n",
      "Epoch 12/50\n",
      "64/64 [==============================] - 0s 78us/step - loss: 0.9924\n",
      "Epoch 13/50\n",
      "64/64 [==============================] - 0s 63us/step - loss: 0.9870\n",
      "Epoch 14/50\n",
      "64/64 [==============================] - 0s 63us/step - loss: 0.9822\n",
      "Epoch 15/50\n",
      "64/64 [==============================] - 0s 78us/step - loss: 0.9778\n",
      "Epoch 16/50\n",
      "64/64 [==============================] - 0s 94us/step - loss: 0.9739\n",
      "Epoch 17/50\n",
      "64/64 [==============================] - 0s 63us/step - loss: 0.9703\n",
      "Epoch 18/50\n",
      "64/64 [==============================] - 0s 63us/step - loss: 0.9670\n",
      "Epoch 19/50\n",
      "64/64 [==============================] - 0s 63us/step - loss: 0.9640\n",
      "Epoch 20/50\n",
      "64/64 [==============================] - 0s 47us/step - loss: 0.9612\n",
      "Epoch 21/50\n",
      "64/64 [==============================] - 0s 109us/step - loss: 0.9585\n",
      "Epoch 22/50\n",
      "64/64 [==============================] - 0s 78us/step - loss: 0.9560\n",
      "Epoch 23/50\n",
      "64/64 [==============================] - 0s 78us/step - loss: 0.9535\n",
      "Epoch 24/50\n",
      "64/64 [==============================] - 0s 63us/step - loss: 0.9512\n",
      "Epoch 25/50\n",
      "64/64 [==============================] - 0s 94us/step - loss: 0.9489\n",
      "Epoch 26/50\n",
      "64/64 [==============================] - 0s 78us/step - loss: 0.9467\n",
      "Epoch 27/50\n",
      "64/64 [==============================] - 0s 78us/step - loss: 0.9446\n",
      "Epoch 28/50\n",
      "64/64 [==============================] - 0s 78us/step - loss: 0.9424\n",
      "Epoch 29/50\n",
      "64/64 [==============================] - 0s 78us/step - loss: 0.9403\n",
      "Epoch 30/50\n",
      "64/64 [==============================] - 0s 94us/step - loss: 0.9382\n",
      "Epoch 31/50\n",
      "64/64 [==============================] - 0s 62us/step - loss: 0.9362\n",
      "Epoch 32/50\n",
      "64/64 [==============================] - 0s 63us/step - loss: 0.9341\n",
      "Epoch 33/50\n",
      "64/64 [==============================] - 0s 63us/step - loss: 0.9320\n",
      "Epoch 34/50\n",
      "64/64 [==============================] - 0s 47us/step - loss: 0.9299\n",
      "Epoch 35/50\n",
      "64/64 [==============================] - 0s 63us/step - loss: 0.9278\n",
      "Epoch 36/50\n",
      "64/64 [==============================] - 0s 109us/step - loss: 0.9257\n",
      "Epoch 37/50\n",
      "64/64 [==============================] - 0s 78us/step - loss: 0.9235\n",
      "Epoch 38/50\n",
      "64/64 [==============================] - 0s 63us/step - loss: 0.9213\n",
      "Epoch 39/50\n",
      "64/64 [==============================] - 0s 47us/step - loss: 0.9192\n",
      "Epoch 40/50\n",
      "64/64 [==============================] - 0s 94us/step - loss: 0.9169\n",
      "Epoch 41/50\n",
      "64/64 [==============================] - 0s 94us/step - loss: 0.9147\n",
      "Epoch 42/50\n",
      "64/64 [==============================] - 0s 63us/step - loss: 0.9124\n",
      "Epoch 43/50\n",
      "64/64 [==============================] - 0s 94us/step - loss: 0.9101\n",
      "Epoch 44/50\n",
      "64/64 [==============================] - 0s 78us/step - loss: 0.9078\n",
      "Epoch 45/50\n",
      "64/64 [==============================] - 0s 63us/step - loss: 0.9054\n",
      "Epoch 46/50\n",
      "64/64 [==============================] - 0s 63us/step - loss: 0.9030\n",
      "Epoch 47/50\n",
      "64/64 [==============================] - 0s 78us/step - loss: 0.9006\n",
      "Epoch 48/50\n",
      "64/64 [==============================] - 0s 63us/step - loss: 0.8981\n",
      "Epoch 49/50\n",
      "64/64 [==============================] - 0s 63us/step - loss: 0.8956\n",
      "Epoch 50/50\n",
      "64/64 [==============================] - 0s 47us/step - loss: 0.8930\n"
     ]
    }
   ],
   "source": [
    "history=model.fit(x,y,epochs=50,batch_size=N) #"
   ]
  },
  {
   "cell_type": "code",
   "execution_count": null,
   "metadata": {},
   "outputs": [],
   "source": []
  }
 ],
 "metadata": {
  "kernelspec": {
   "display_name": "NNlab",
   "language": "python",
   "name": "nnlab"
  },
  "language_info": {
   "codemirror_mode": {
    "name": "ipython",
    "version": 3
   },
   "file_extension": ".py",
   "mimetype": "text/x-python",
   "name": "python",
   "nbconvert_exporter": "python",
   "pygments_lexer": "ipython3",
   "version": "3.6.6"
  }
 },
 "nbformat": 4,
 "nbformat_minor": 2
}
